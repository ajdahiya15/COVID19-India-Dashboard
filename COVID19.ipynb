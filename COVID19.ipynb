{
 "cells": [
  {
   "cell_type": "code",
   "execution_count": 1,
   "metadata": {},
   "outputs": [],
   "source": [
    "import pandas as pd \n",
    "import numpy as np"
   ]
  },
  {
   "cell_type": "code",
   "execution_count": 2,
   "metadata": {},
   "outputs": [],
   "source": [
    "import plotly.tools as tls\n",
    "import plotly.graph_objs as go"
   ]
  },
  {
   "cell_type": "code",
   "execution_count": 3,
   "metadata": {},
   "outputs": [],
   "source": [
    "import plotly.offline as py"
   ]
  },
  {
   "cell_type": "code",
   "execution_count": 4,
   "metadata": {},
   "outputs": [],
   "source": [
    "import ipywidgets as widgets\n",
    "import cufflinks as cf"
   ]
  },
  {
   "cell_type": "code",
   "execution_count": 5,
   "metadata": {},
   "outputs": [],
   "source": [
    "from IPython.display import display"
   ]
  },
  {
   "cell_type": "code",
   "execution_count": 6,
   "metadata": {},
   "outputs": [],
   "source": [
    "from ipywidgets import interact, interact_manual"
   ]
  },
  {
   "cell_type": "code",
   "execution_count": 7,
   "metadata": {},
   "outputs": [],
   "source": [
    "from datetime import datetime, date, time"
   ]
  },
  {
   "cell_type": "code",
   "execution_count": 8,
   "metadata": {},
   "outputs": [],
   "source": [
    "state_wise = pd.read_csv('https://api.covid19india.org/csv/latest/state_wise.csv')\n",
    "case_time_series = pd.read_csv('https://api.covid19india.org/csv/latest/case_time_series.csv')\n",
    "district_wise = pd.read_csv('https://api.covid19india.org/csv/latest/district_wise.csv')\n",
    "state_wise_daily = pd.read_csv('https://api.covid19india.org/csv/latest/state_wise_daily.csv')\n",
    "statewise_tested_numbers_data = pd.read_csv('https://api.covid19india.org/csv/latest/statewise_tested_numbers_data.csv')\n",
    "tested_numbers_icmr_data = pd.read_csv('https://api.covid19india.org/csv/latest/tested_numbers_icmr_data.csv')"
   ]
  },
  {
   "cell_type": "markdown",
   "metadata": {},
   "source": [
    "# Total Cases Data"
   ]
  },
  {
   "cell_type": "code",
   "execution_count": 9,
   "metadata": {},
   "outputs": [],
   "source": [
    "def highlight_col(x):\n",
    "    r = 'background-color : red'\n",
    "    g = 'background-color : green'\n",
    "    p = 'backgroung-color : purple'\n",
    "    o = 'background-color : orange'\n",
    "    temp_df = pd.DataFrame('', index = x.index, columns = x.columns)\n",
    "    temp_df.iloc[:, 2] = o\n",
    "    temp_df.iloc[:, 3] = g\n",
    "    temp_df.iloc[:, 4] = r\n",
    "    temp_df.iloc[:, 5] = p\n",
    "    return temp_df"
   ]
  },
  {
   "cell_type": "code",
   "execution_count": 10,
   "metadata": {},
   "outputs": [],
   "source": [
    "state_wise1 = state_wise[['State', 'State_code', 'Confirmed', 'Recovered', 'Deaths', 'Active']]\n",
    "def sort_func(s) :\n",
    "    sorted_df = state_wise1.sort_values(s, ascending = False)\n",
    "    styled_df = sorted_df.style.apply(highlight_col, axis = None)\n",
    "    return styled_df"
   ]
  },
  {
   "cell_type": "code",
   "execution_count": 11,
   "metadata": {},
   "outputs": [
    {
     "data": {
      "application/vnd.jupyter.widget-view+json": {
       "model_id": "714ece23fac9454eb8b8225be7cea28b",
       "version_major": 2,
       "version_minor": 0
      },
      "text/plain": [
       "interactive(children=(Dropdown(description='Sort By :', index=2, options=('State', 'State_code', 'Confirmed', …"
      ]
     },
     "metadata": {},
     "output_type": "display_data"
    },
    {
     "data": {
      "text/plain": [
       "<function __main__.sort_func(s)>"
      ]
     },
     "metadata": {},
     "output_type": "display_data"
    }
   ],
   "source": [
    "sort_widget = widgets.Dropdown(\n",
    "    options=state_wise1.columns,\n",
    "    value='Confirmed',\n",
    "    description='Sort By :',\n",
    "    disabled=False,\n",
    ")\n",
    "display(interact(sort_func, s = sort_widget))"
   ]
  },
  {
   "cell_type": "code",
   "execution_count": 12,
   "metadata": {},
   "outputs": [
    {
     "data": {
      "application/vnd.jupyter.widget-view+json": {
       "model_id": "49d9b5e113c84f97806f8ebec7bd59ae",
       "version_major": 2,
       "version_minor": 0
      },
      "text/plain": [
       "interactive(children=(Dropdown(description='Select :', options=('Confirmed', 'Recovered', 'Deaths', 'Active'),…"
      ]
     },
     "metadata": {},
     "output_type": "display_data"
    },
    {
     "data": {
      "text/plain": [
       "<function __main__.bar_plot(var)>"
      ]
     },
     "metadata": {},
     "output_type": "display_data"
    }
   ],
   "source": [
    "plot_widget = widgets.Dropdown(\n",
    "    options=state_wise1.columns[2:],\n",
    "    value='Confirmed',\n",
    "    description='Select :',\n",
    "    disabled=False,\n",
    ")\n",
    "\n",
    "def bar_plot(var) :\n",
    "    trace = go.Bar(x = state_wise1.loc[1:, 'State'], y = state_wise1.loc[1:, var])\n",
    "    data = [trace]\n",
    "    layout = dict(title = f'State Wise Total {var} Cases', xaxis = dict(title = 'State'), yaxis = dict(title = f'Total {var} Cases'))\n",
    "    fig = dict(data = data, layout = layout)\n",
    "    py.iplot(fig, filename = 'Statewise_bar_chart')\n",
    "\n",
    "display(interact(bar_plot, var = plot_widget))"
   ]
  },
  {
   "cell_type": "code",
   "execution_count": 13,
   "metadata": {},
   "outputs": [],
   "source": [
    "#Transfoming data in time series format\n",
    "case_time_series['Date'] = case_time_series['Date'].apply(lambda x : x + ' 2020')\n",
    "\n",
    "case_time_series['Date'] = case_time_series['Date'].apply(lambda x : pd.to_datetime(x))\n",
    "case_time_series = case_time_series.set_index('Date')"
   ]
  },
  {
   "cell_type": "markdown",
   "metadata": {},
   "source": [
    "# Total Cases Trend"
   ]
  },
  {
   "cell_type": "code",
   "execution_count": 14,
   "metadata": {},
   "outputs": [
    {
     "data": {
      "application/vnd.jupyter.widget-view+json": {
       "model_id": "67a0ed70dc144ccf831b46932099c1dc",
       "version_major": 2,
       "version_minor": 0
      },
      "text/plain": [
       "interactive(children=(Dropdown(description='Select :', options=('Total Confirmed', 'Total Recovered', 'Total D…"
      ]
     },
     "metadata": {},
     "output_type": "display_data"
    },
    {
     "data": {
      "text/plain": [
       "<function __main__.total_trend(var)>"
      ]
     },
     "metadata": {},
     "output_type": "display_data"
    }
   ],
   "source": [
    "#creating widget\n",
    "total_trend_widget = widgets.Dropdown(\n",
    "    options=case_time_series.columns[[1,3,5]], value='Total Confirmed',\n",
    "    description='Select :',\n",
    "    disabled=False,\n",
    ")\n",
    "\n",
    "#creating interactive plot\n",
    "def total_trend(var) :\n",
    "    trace = go.Bar(x = case_time_series.index, y = case_time_series[var])\n",
    "    data = [trace]\n",
    "    layout = dict(title = f'{var} Cases', xaxis = dict(title = 'Date'), yaxis = dict(title = f'{var} Cases'))\n",
    "    fig = dict(data = data, layout = layout)\n",
    "    py.iplot(fig, filename = 'Total Trends')\n",
    "display(interact(total_trend, var = total_trend_widget))"
   ]
  },
  {
   "cell_type": "markdown",
   "metadata": {},
   "source": [
    "# Daily Cases Trends"
   ]
  },
  {
   "cell_type": "code",
   "execution_count": 15,
   "metadata": {},
   "outputs": [
    {
     "data": {
      "application/vnd.jupyter.widget-view+json": {
       "model_id": "297038c625d9490daa20605058b9f8d3",
       "version_major": 2,
       "version_minor": 0
      },
      "text/plain": [
       "interactive(children=(Dropdown(description='Select :', options=('Daily Confirmed', 'Daily Recovered', 'Daily D…"
      ]
     },
     "metadata": {},
     "output_type": "display_data"
    },
    {
     "data": {
      "text/plain": [
       "<function __main__.daily_trend(var)>"
      ]
     },
     "metadata": {},
     "output_type": "display_data"
    }
   ],
   "source": [
    "#creating widget\n",
    "daily_trend_widget = widgets.Dropdown(\n",
    "    options=case_time_series.columns[[0,2,4]], value='Daily Confirmed',\n",
    "    description='Select :',\n",
    "    disabled=False,\n",
    ")\n",
    "\n",
    "#creating interactive plot\n",
    "def daily_trend(var) :\n",
    "    trace = go.Bar(x = case_time_series.index, y = case_time_series[var])\n",
    "    data = [trace]\n",
    "    layout = dict(title = f'{var} Cases', xaxis = dict(title = 'Date'), yaxis = dict(title = f'{var} Cases'))\n",
    "    fig = dict(data = data, layout = layout)\n",
    "    py.iplot(fig, filename = 'Daily Trends')\n",
    "display(interact(daily_trend, var = daily_trend_widget))"
   ]
  },
  {
   "cell_type": "markdown",
   "metadata": {},
   "source": [
    "# State wise daily trend"
   ]
  },
  {
   "cell_type": "code",
   "execution_count": 16,
   "metadata": {},
   "outputs": [],
   "source": [
    "#transforming \"Date\" column in datetime format\n",
    "state_wise_daily['Date'] = state_wise_daily['Date'].apply(lambda x: pd.to_datetime(x))"
   ]
  },
  {
   "cell_type": "code",
   "execution_count": 17,
   "metadata": {},
   "outputs": [
    {
     "data": {
      "application/vnd.jupyter.widget-view+json": {
       "model_id": "36c32ec57d4d4b619a035a70bce2dce4",
       "version_major": 2,
       "version_minor": 0
      },
      "text/plain": [
       "interactive(children=(Dropdown(description='Status :', options=('Confirmed', 'Recovered', 'Deceased'), value='…"
      ]
     },
     "metadata": {},
     "output_type": "display_data"
    },
    {
     "data": {
      "text/plain": [
       "<function __main__.state_wise_trend(var1, var2)>"
      ]
     },
     "metadata": {},
     "output_type": "display_data"
    }
   ],
   "source": [
    "#creating widgets\n",
    "state_trend_widget1 = widgets.Dropdown(\n",
    "    options=['Confirmed','Recovered','Deceased'], value='Confirmed',\n",
    "    description='Status :',\n",
    "    disabled=False,\n",
    ")\n",
    "\n",
    "state_trend_widget2 = widgets.Dropdown(\n",
    "    options=state_wise_daily.columns[2:], value='DL',\n",
    "    description='State :',\n",
    "    disabled=False,\n",
    ")\n",
    "\n",
    "#creating interactive visulisation\n",
    "def state_wise_trend(var1, var2) :\n",
    "    df = state_wise_daily.loc[state_wise_daily['Status'] == var1, :]\n",
    "    trace = go.Bar(x = df['Date'], y = df[var2])\n",
    "    data = [trace]\n",
    "    layout = dict(title = f'Daily {var1} Cases', xaxis = dict(title = 'Date'),\n",
    "                  yaxis = dict(title = f'Daily {var1} Cases in {var2}'))\n",
    "    fig = dict(data = data, layout = layout)\n",
    "    py.iplot(fig, filename = 'State_wise_trend')\n",
    "\n",
    "display(interact(state_wise_trend, var1 = state_trend_widget1, var2 = state_trend_widget2))"
   ]
  }
 ],
 "metadata": {
  "kernelspec": {
   "display_name": "Python 3",
   "language": "python",
   "name": "python3"
  },
  "language_info": {
   "codemirror_mode": {
    "name": "ipython",
    "version": 3
   },
   "file_extension": ".py",
   "mimetype": "text/x-python",
   "name": "python",
   "nbconvert_exporter": "python",
   "pygments_lexer": "ipython3",
   "version": "3.7.6"
  }
 },
 "nbformat": 4,
 "nbformat_minor": 4
}
